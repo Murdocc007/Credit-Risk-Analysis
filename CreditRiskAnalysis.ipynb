{
 "cells": [
  {
   "cell_type": "code",
   "execution_count": 2,
   "metadata": {
    "collapsed": false
   },
   "outputs": [
    {
     "name": "stdout",
     "output_type": "stream",
     "text": [
      "<pyspark.sql.context.HiveContext object at 0x7fc0d16abc10>\n"
     ]
    }
   ],
   "source": [
    "hc = pyspark.sql.HiveContext(sc)\n",
    "print hc"
   ]
  },
  {
   "cell_type": "code",
   "execution_count": 60,
   "metadata": {
    "collapsed": true
   },
   "outputs": [],
   "source": [
    "# imports from PySpark\n",
    "import os\n",
    "import numpy\n",
    "from matplotlib import pyplot\n",
    "from pyspark.ml import Pipeline\n",
    "from pyspark.ml.feature import StandardScaler, StringIndexer, VectorAssembler\n",
    "from pyspark.ml.evaluation import BinaryClassificationEvaluator\n",
    "from pyspark.ml.classification import \\\n",
    "    RandomForestClassifier as SparkML_RandomForestClassifier, \\\n",
    "    GBTClassifier as SparkML_GBTClassifier, \\\n",
    "    LogisticRegression as SparkML_LogisticRegression\n",
    "from pyspark.ml.tuning import CrossValidator, ParamGridBuilder"
   ]
  },
  {
   "cell_type": "code",
   "execution_count": 10,
   "metadata": {
    "collapsed": false
   },
   "outputs": [],
   "source": [
    "# download PySpark_CSV.py and put it into SparkContext\n",
    "!curl https://raw.githubusercontent.com/seahboonsiew/pyspark-csv/master/pyspark_csv.py --output pyspark_csv.py\n",
    "\n",
    "sc.addPyFile('pyspark_csv.py')\n",
    "from pyspark_csv import csvToDataFrame"
   ]
  },
  {
   "cell_type": "code",
   "execution_count": 8,
   "metadata": {
    "collapsed": false
   },
   "outputs": [
    {
     "data": {
      "text/plain": [
       "0"
      ]
     },
     "execution_count": 8,
     "metadata": {},
     "output_type": "execute_result"
    }
   ],
   "source": [
    "DATA_FILE_NAME = 'CreditScoring.csv'\n",
    "DATA_URL ='https://raw.githubusercontent.com/ChicagoBoothML/DATA___Kaggle___GiveMeSomeCredit/master/%s' % DATA_FILE_NAME\n",
    "os.system('curl %s --output %s' %(DATA_URL, DATA_FILE_NAME))"
   ]
  },
  {
   "cell_type": "code",
   "execution_count": 11,
   "metadata": {
    "collapsed": false
   },
   "outputs": [],
   "source": [
    "# read data into distributed data frame\n",
    "credit_scoring_ddf = \\\n",
    "    csvToDataFrame(\n",
    "        sqlCtx=hc,\n",
    "        rdd=sc.textFile(DATA_FILE_NAME),\n",
    "        columns=None,\n",
    "        sep=',',\n",
    "        parseDate=True)\\\n",
    "    .cache()\n",
    "\n",
    "credit_scoring_ddf.registerTempTable('credit_scoring')"
   ]
  },
  {
   "cell_type": "code",
   "execution_count": 12,
   "metadata": {
    "collapsed": false
   },
   "outputs": [
    {
     "name": "stdout",
     "output_type": "stream",
     "text": [
      "root\n",
      " |-- : integer (nullable = true)\n",
      " |-- SeriousDlqin2yrs: integer (nullable = true)\n",
      " |-- RevolvingUtilizationOfUnsecuredLines: double (nullable = true)\n",
      " |-- age: integer (nullable = true)\n",
      " |-- NumberOfTime30-59DaysPastDueNotWorse: integer (nullable = true)\n",
      " |-- DebtRatio: double (nullable = true)\n",
      " |-- MonthlyIncome: string (nullable = true)\n",
      " |-- NumberOfOpenCreditLinesAndLoans: integer (nullable = true)\n",
      " |-- NumberOfTimes90DaysLate: integer (nullable = true)\n",
      " |-- NumberRealEstateLoansOrLines: integer (nullable = true)\n",
      " |-- NumberOfTime60-89DaysPastDueNotWorse: integer (nullable = true)\n",
      " |-- NumberOfDependents: string (nullable = true)\n",
      "\n"
     ]
    }
   ],
   "source": [
    "credit_scoring_ddf.printSchema()"
   ]
  },
  {
   "cell_type": "code",
   "execution_count": 30,
   "metadata": {
    "collapsed": true
   },
   "outputs": [],
   "source": [
    "# read Credit Scoring data into data frame\n",
    "y_var_name = 'SeriousDlqin2yrs'\n",
    "X_var_names = [\n",
    "  'RevolvingUtilizationOfUnsecuredLines',\n",
    "  'age',\n",
    "  'NumberOfTime30-59DaysPastDueNotWorse',\n",
    "  'DebtRatio',\n",
    "  'MonthlyIncome',\n",
    "  'NumberOfOpenCreditLinesAndLoans',\n",
    "  'NumberOfTimes90DaysLate',\n",
    "  'NumberRealEstateLoansOrLines',\n",
    "  'NumberOfTime60-89DaysPastDueNotWorse',\n",
    "  'NumberOfDependents']\n",
    "NB_EXAMPLES_TO_SHOW=9"
   ]
  },
  {
   "cell_type": "code",
   "execution_count": 14,
   "metadata": {
    "collapsed": false
   },
   "outputs": [
    {
     "name": "stdout",
     "output_type": "stream",
     "text": [
      "root\n",
      " |-- SeriousDlqin2yrs: string (nullable = false)\n",
      " |-- RevolvingUtilizationOfUnsecuredLines: double (nullable = true)\n",
      " |-- age: double (nullable = true)\n",
      " |-- NumberOfTime30-59DaysPastDueNotWorse: double (nullable = true)\n",
      " |-- DebtRatio: double (nullable = true)\n",
      " |-- MonthlyIncome: double (nullable = true)\n",
      " |-- NumberOfOpenCreditLinesAndLoans: double (nullable = true)\n",
      " |-- NumberOfTimes90DaysLate: double (nullable = true)\n",
      " |-- NumberRealEstateLoansOrLines: double (nullable = true)\n",
      " |-- NumberOfTime60-89DaysPastDueNotWorse: double (nullable = true)\n",
      " |-- NumberOfDependents: double (nullable = true)\n",
      "\n"
     ]
    }
   ],
   "source": [
    "# remove redundant columns, convert labels to strings\n",
    "# & convert all integer columns to DoubleType\n",
    "credit_scoring_ddf = hc.sql(\n",
    "    \"SELECT \\\n",
    "        CASE \\\n",
    "            WHEN SeriousDlqin2yrs > 0 THEN 'yes' \\\n",
    "            ELSE 'no' \\\n",
    "            END \\\n",
    "            AS SeriousDlqin2yrs, \\\n",
    "        %s \\\n",
    "    FROM \\\n",
    "        credit_scoring\"\n",
    "    % ', '.join(['CAST(`%s` AS DOUBLE) AS `%s`' % (x_var_name, x_var_name)\n",
    "                  for x_var_name in X_var_names]))\\\n",
    "    .cache()\n",
    "\n",
    "credit_scoring_ddf.registerTempTable('credit_scoring')\n",
    "\n",
    "credit_scoring_ddf.printSchema()"
   ]
  },
  {
   "cell_type": "code",
   "execution_count": 17,
   "metadata": {
    "collapsed": false
   },
   "outputs": [],
   "source": [
    "RANDOM_SEED=99\n",
    "# split into Train & Test sets\n",
    "credit_scoring_train_ddf, credit_scoring_test_ddf = \\\n",
    "    credit_scoring_ddf.randomSplit(\n",
    "        weights=[.3, .7],\n",
    "        seed=RANDOM_SEED)\n",
    "    \n",
    "credit_scoring_train_ddf.cache()\n",
    "credit_scoring_train_ddf.registerTempTable('credit_scoring_train')\n",
    "\n",
    "credit_scoring_test_ddf.cache()\n",
    "credit_scoring_test_ddf.registerTempTable('credit_scoring_test')"
   ]
  },
  {
   "cell_type": "code",
   "execution_count": 18,
   "metadata": {
    "collapsed": true
   },
   "outputs": [],
   "source": [
    "# count data completeness in Training set\n",
    "count_ddf = hc.sql(\n",
    "    \"SELECT \\\n",
    "        %s \\\n",
    "    FROM \\\n",
    "        credit_scoring_train\"\n",
    "    % ', '.join(['COUNT(`%s`) AS `%s`' % (v, v)\n",
    "                 for v in [y_var_name] + X_var_names]))\\\n",
    "    .cache()"
   ]
  },
  {
   "cell_type": "code",
   "execution_count": 22,
   "metadata": {
    "collapsed": false
   },
   "outputs": [
    {
     "name": "stdout",
     "output_type": "stream",
     "text": [
      "root\n",
      " |-- SeriousDlqin2yrs: long (nullable = false)\n",
      " |-- RevolvingUtilizationOfUnsecuredLines: long (nullable = false)\n",
      " |-- age: long (nullable = false)\n",
      " |-- NumberOfTime30-59DaysPastDueNotWorse: long (nullable = false)\n",
      " |-- DebtRatio: long (nullable = false)\n",
      " |-- MonthlyIncome: long (nullable = false)\n",
      " |-- NumberOfOpenCreditLinesAndLoans: long (nullable = false)\n",
      " |-- NumberOfTimes90DaysLate: long (nullable = false)\n",
      " |-- NumberRealEstateLoansOrLines: long (nullable = false)\n",
      " |-- NumberOfTime60-89DaysPastDueNotWorse: long (nullable = false)\n",
      " |-- NumberOfDependents: long (nullable = false)\n",
      "\n"
     ]
    }
   ],
   "source": [
    "count_ddf.printSchema()"
   ]
  },
  {
   "cell_type": "code",
   "execution_count": 23,
   "metadata": {
    "collapsed": false
   },
   "outputs": [
    {
     "name": "stdout",
     "output_type": "stream",
     "text": [
      "+----------------+------------------------------------+-----+------------------------------------+\n",
      "|SeriousDlqin2yrs|RevolvingUtilizationOfUnsecuredLines|  age|NumberOfTime30-59DaysPastDueNotWorse|\n",
      "+----------------+------------------------------------+-----+------------------------------------+\n",
      "|           45111|                               45111|45111|                               45111|\n",
      "+----------------+------------------------------------+-----+------------------------------------+\n",
      "\n"
     ]
    }
   ],
   "source": [
    "count_ddf.select(\n",
    "    'SeriousDlqin2yrs',\n",
    "    'RevolvingUtilizationOfUnsecuredLines',\n",
    "    'age',\n",
    "    'NumberOfTime30-59DaysPastDueNotWorse')\\\n",
    "    .show()"
   ]
  },
  {
   "cell_type": "code",
   "execution_count": 24,
   "metadata": {
    "collapsed": false
   },
   "outputs": [
    {
     "name": "stdout",
     "output_type": "stream",
     "text": [
      "+---------+-------------+-------------------------------+-----------------------+\n",
      "|DebtRatio|MonthlyIncome|NumberOfOpenCreditLinesAndLoans|NumberOfTimes90DaysLate|\n",
      "+---------+-------------+-------------------------------+-----------------------+\n",
      "|    45111|        36282|                          45111|                  45111|\n",
      "+---------+-------------+-------------------------------+-----------------------+\n",
      "\n"
     ]
    }
   ],
   "source": [
    "count_ddf.select(\n",
    "    'DebtRatio',\n",
    "    'MonthlyIncome',\n",
    "    'NumberOfOpenCreditLinesAndLoans',\n",
    "    'NumberOfTimes90DaysLate')\\\n",
    "    .show()"
   ]
  },
  {
   "cell_type": "code",
   "execution_count": 25,
   "metadata": {
    "collapsed": false
   },
   "outputs": [
    {
     "name": "stdout",
     "output_type": "stream",
     "text": [
      "+----------------------------+------------------------------------+------------------+\n",
      "|NumberRealEstateLoansOrLines|NumberOfTime60-89DaysPastDueNotWorse|NumberOfDependents|\n",
      "+----------------------------+------------------------------------+------------------+\n",
      "|                       45111|                               45111|             43920|\n",
      "+----------------------------+------------------------------------+------------------+\n",
      "\n"
     ]
    }
   ],
   "source": [
    "count_ddf.select(\n",
    "    'NumberRealEstateLoansOrLines',\n",
    "    'NumberOfTime60-89DaysPastDueNotWorse',\n",
    "    'NumberOfDependents')\\\n",
    "    .show()"
   ]
  },
  {
   "cell_type": "code",
   "execution_count": 26,
   "metadata": {
    "collapsed": false
   },
   "outputs": [
    {
     "data": {
      "text/plain": [
       "6673.548343531228"
      ]
     },
     "execution_count": 26,
     "metadata": {},
     "output_type": "execute_result"
    }
   ],
   "source": [
    "# calculate average MonthlyIncome to fill null values\n",
    "train_avg_monthly_income = hc.sql(\n",
    "    \"SELECT \\\n",
    "        AVG(MonthlyIncome) \\\n",
    "    FROM \\\n",
    "        credit_scoring_train\")\\\n",
    "    .rdd\\\n",
    "    .map(lambda row: row[0])\\\n",
    "    .take(1)[0]\n",
    "train_avg_monthly_income"
   ]
  },
  {
   "cell_type": "code",
   "execution_count": 27,
   "metadata": {
    "collapsed": false
   },
   "outputs": [
    {
     "data": {
      "text/plain": [
       "0.7601775956284152"
      ]
     },
     "execution_count": 27,
     "metadata": {},
     "output_type": "execute_result"
    }
   ],
   "source": [
    "# calculate NumberOfDependents to fill null values\n",
    "train_avg_nb_dependents = hc.sql(\n",
    "    \"SELECT \\\n",
    "        AVG(NumberOfDependents) \\\n",
    "    FROM \\\n",
    "        credit_scoring_train\")\\\n",
    "    .rdd\\\n",
    "    .map(lambda row: row[0])\\\n",
    "    .take(1)[0]\n",
    "\n",
    "train_avg_nb_dependents"
   ]
  },
  {
   "cell_type": "code",
   "execution_count": 31,
   "metadata": {
    "collapsed": false
   },
   "outputs": [
    {
     "name": "stdout",
     "output_type": "stream",
     "text": [
      "+-------------+------------------+\n",
      "|MonthlyIncome|NumberOfDependents|\n",
      "+-------------+------------------+\n",
      "|  6673.548344|          0.760178|\n",
      "|  6673.548344|               0.0|\n",
      "|       1520.0|               1.0|\n",
      "|       2800.0|               0.0|\n",
      "|  6673.548344|               0.0|\n",
      "|  6673.548344|          0.760178|\n",
      "|          1.0|               0.0|\n",
      "|        764.0|               0.0|\n",
      "|        820.0|               0.0|\n",
      "+-------------+------------------+\n",
      "only showing top 9 rows\n",
      "\n"
     ]
    }
   ],
   "source": [
    "# fill Training set\n",
    "\n",
    "complete_vars = \\\n",
    "    [y_var_name] + \\\n",
    "    ['RevolvingUtilizationOfUnsecuredLines',\n",
    "     'age',\n",
    "     'NumberOfTime30-59DaysPastDueNotWorse',\n",
    "     'DebtRatio',\n",
    "     'NumberOfOpenCreditLinesAndLoans',\n",
    "     'NumberOfTimes90DaysLate',\n",
    "     'NumberRealEstateLoansOrLines',\n",
    "     'NumberOfTime60-89DaysPastDueNotWorse']\n",
    "    \n",
    "credit_scoring_train_ddf = hc.sql(\n",
    "    \"SELECT \\\n",
    "        %s, \\\n",
    "        COALESCE(MonthlyIncome, %f) AS MonthlyIncome, \\\n",
    "        COALESCE(NumberOfDependents, %f) AS NumberOfDependents \\\n",
    "    FROM \\\n",
    "        credit_scoring_train\"\n",
    "    % (', '.join(['`%s`' % v for v in complete_vars]),\n",
    "       train_avg_monthly_income,\n",
    "       train_avg_nb_dependents))\\\n",
    "    .cache()\n",
    "\n",
    "credit_scoring_train_ddf.registerTempTable('credit_scoring_train')\n",
    "\n",
    "credit_scoring_train_ddf\\\n",
    "    .select(\n",
    "        'MonthlyIncome',\n",
    "        'NumberOfDependents')\\\n",
    "    .show(NB_EXAMPLES_TO_SHOW)"
   ]
  },
  {
   "cell_type": "code",
   "execution_count": 32,
   "metadata": {
    "collapsed": false
   },
   "outputs": [
    {
     "name": "stdout",
     "output_type": "stream",
     "text": [
      "+-------------+------------------+\n",
      "|MonthlyIncome|NumberOfDependents|\n",
      "+-------------+------------------+\n",
      "|  6673.548344|          0.760178|\n",
      "|          1.0|               0.0|\n",
      "|        240.0|               0.0|\n",
      "|        300.0|               0.0|\n",
      "|        800.0|               0.0|\n",
      "|        820.0|               0.0|\n",
      "|        898.0|               0.0|\n",
      "|        900.0|               0.0|\n",
      "|        929.0|               0.0|\n",
      "+-------------+------------------+\n",
      "only showing top 9 rows\n",
      "\n"
     ]
    }
   ],
   "source": [
    "credit_scoring_test_ddf = hc.sql(\n",
    "    \"SELECT \\\n",
    "        %s, \\\n",
    "        COALESCE(MonthlyIncome, %f) AS MonthlyIncome, \\\n",
    "        COALESCE(NumberOfDependents, %f) AS NumberOfDependents \\\n",
    "    FROM \\\n",
    "        credit_scoring_test\"\n",
    "    % (', '.join(['`%s`' % v for v in complete_vars]),\n",
    "       train_avg_monthly_income,\n",
    "       train_avg_nb_dependents))\\\n",
    "    .cache()\n",
    "\n",
    "credit_scoring_test_ddf.registerTempTable('credit_scoring_test')\n",
    "\n",
    "credit_scoring_test_ddf\\\n",
    "    .select(\n",
    "        'MonthlyIncome',\n",
    "        'NumberOfDependents')\\\n",
    "    .show(NB_EXAMPLES_TO_SHOW)"
   ]
  },
  {
   "cell_type": "markdown",
   "metadata": {},
   "source": [
    "# Constructing PipeLines"
   ]
  },
  {
   "cell_type": "code",
   "execution_count": 33,
   "metadata": {
    "collapsed": true
   },
   "outputs": [],
   "source": [
    "feature_vector_assembler = \\\n",
    "    VectorAssembler(\n",
    "        inputCols=X_var_names,\n",
    "        outputCol='features')"
   ]
  },
  {
   "cell_type": "code",
   "execution_count": 35,
   "metadata": {
    "collapsed": true
   },
   "outputs": [],
   "source": [
    "label_string_indexer = \\\n",
    "    StringIndexer(\n",
    "        inputCol='SeriousDlqin2yrs',\n",
    "        outputCol='SeriousDlqin2yrs_idx')\\\n",
    "    .fit(dataset=credit_scoring_train_ddf)"
   ]
  },
  {
   "cell_type": "code",
   "execution_count": 36,
   "metadata": {
    "collapsed": true
   },
   "outputs": [],
   "source": [
    "# Random Forest Classifier\n",
    "rf_classifier = \\\n",
    "    SparkML_RandomForestClassifier(\n",
    "        featuresCol='features',\n",
    "        labelCol='SeriousDlqin2yrs_idx',\n",
    "        predictionCol='y_hat',\n",
    "        probabilityCol='p_hat',\n",
    "        rawPredictionCol='raw_pred',\n",
    "        maxDepth=6,\n",
    "        maxBins=32,\n",
    "        minInstancesPerNode=1,\n",
    "        minInfoGain=0.0,\n",
    "        maxMemoryInMB=256,\n",
    "        cacheNodeIds=False,\n",
    "        checkpointInterval=10,\n",
    "        impurity='entropy',\n",
    "        numTrees=600,\n",
    "        featureSubsetStrategy='auto',\n",
    "        seed=RANDOM_SEED)\n",
    "\n",
    "rf_pipeline_estimator = \\\n",
    "    Pipeline(\n",
    "        stages=[\n",
    "            feature_vector_assembler,\n",
    "            label_string_indexer,\n",
    "            rf_classifier])"
   ]
  },
  {
   "cell_type": "code",
   "execution_count": 37,
   "metadata": {
    "collapsed": true
   },
   "outputs": [],
   "source": [
    "# GBT Classifier\n",
    "gbt_classifier = \\\n",
    "    SparkML_GBTClassifier(\n",
    "        featuresCol='features',\n",
    "        labelCol='SeriousDlqin2yrs_idx',\n",
    "        predictionCol='y_hat',\n",
    "        maxDepth=5,\n",
    "        maxBins=32,\n",
    "        minInstancesPerNode=1,\n",
    "        minInfoGain=0.0,\n",
    "        maxMemoryInMB=256,\n",
    "        cacheNodeIds=False,\n",
    "        checkpointInterval=10,\n",
    "        lossType='logistic',\n",
    "        maxIter=100,   # small number of trees to avoid Stack Overflow\n",
    "        stepSize=.1)\n",
    "\n",
    "gbt_pipeline_estimator = \\\n",
    "    Pipeline(\n",
    "        stages=[\n",
    "            feature_vector_assembler,\n",
    "            # feature_standard_scaler,\n",
    "            label_string_indexer,\n",
    "            gbt_classifier])"
   ]
  },
  {
   "cell_type": "code",
   "execution_count": 38,
   "metadata": {
    "collapsed": true
   },
   "outputs": [],
   "source": [
    "# Logistic Regression Classifier\n",
    "lr_classifier = \\\n",
    "    SparkML_LogisticRegression(\n",
    "        featuresCol='features',\n",
    "        labelCol='SeriousDlqin2yrs_idx',\n",
    "        predictionCol='y_hat',\n",
    "        maxIter=10000,   # many iterations to compensate for inability to standard-scale\n",
    "        regParam=0.,\n",
    "        elasticNetParam=0.,\n",
    "        tol=1e-9,\n",
    "        fitIntercept=True,\n",
    "        threshold=.5,\n",
    "        # thresholds=None,\n",
    "        probabilityCol='p_hat',\n",
    "        rawPredictionCol='raw_pred')\n",
    "\n",
    "lr_pipeline_estimator = \\\n",
    "    Pipeline(\n",
    "        stages=[\n",
    "            feature_vector_assembler,\n",
    "            # feature_standard_scaler,\n",
    "            label_string_indexer,\n",
    "            lr_classifier])"
   ]
  },
  {
   "cell_type": "markdown",
   "metadata": {},
   "source": [
    "# Fitting Regression Pipelines"
   ]
  },
  {
   "cell_type": "code",
   "execution_count": 40,
   "metadata": {
    "collapsed": true
   },
   "outputs": [],
   "source": [
    "# fit Random Forest Classifier\n",
    "rf_model = \\\n",
    "    rf_pipeline_estimator.fit(\n",
    "        dataset=credit_scoring_train_ddf)"
   ]
  },
  {
   "cell_type": "code",
   "execution_count": 41,
   "metadata": {
    "collapsed": true
   },
   "outputs": [],
   "source": [
    "# fit GBT Classifier\n",
    "gbt_model = \\\n",
    "    gbt_pipeline_estimator.fit(\n",
    "        dataset=credit_scoring_train_ddf)"
   ]
  },
  {
   "cell_type": "code",
   "execution_count": 42,
   "metadata": {
    "collapsed": true
   },
   "outputs": [],
   "source": [
    "# fit Logistic Regression\n",
    "lr_model = \\\n",
    "    lr_pipeline_estimator.fit(\n",
    "        dataset=credit_scoring_train_ddf)"
   ]
  },
  {
   "cell_type": "markdown",
   "metadata": {},
   "source": [
    "# Make Predictions"
   ]
  },
  {
   "cell_type": "code",
   "execution_count": 44,
   "metadata": {
    "collapsed": false
   },
   "outputs": [
    {
     "name": "stdout",
     "output_type": "stream",
     "text": [
      "+----------------+--------------------+--------------------+--------------------+-----+\n",
      "|SeriousDlqin2yrs|SeriousDlqin2yrs_idx|            raw_pred|               p_hat|y_hat|\n",
      "+----------------+--------------------+--------------------+--------------------+-----+\n",
      "|              no|                 0.0|[589.357371661034...|[0.98226228610172...|  0.0|\n",
      "|              no|                 0.0|[589.677311453091...|[0.98279551908848...|  0.0|\n",
      "|              no|                 0.0|[589.677311453091...|[0.98279551908848...|  0.0|\n",
      "|              no|                 0.0|[589.825837268836...|[0.98304306211472...|  0.0|\n",
      "|              no|                 0.0|[589.677311453091...|[0.98279551908848...|  0.0|\n",
      "|              no|                 0.0|[589.825837268836...|[0.98304306211472...|  0.0|\n",
      "|              no|                 0.0|[589.677311453091...|[0.98279551908848...|  0.0|\n",
      "|              no|                 0.0|[589.677311453091...|[0.98279551908848...|  0.0|\n",
      "|              no|                 0.0|[589.825837268836...|[0.98304306211472...|  0.0|\n",
      "+----------------+--------------------+--------------------+--------------------+-----+\n",
      "only showing top 9 rows\n",
      "\n"
     ]
    }
   ],
   "source": [
    "rf_predictions_ddf = \\\n",
    "    rf_model.transform(\n",
    "        dataset=credit_scoring_test_ddf)\\\n",
    "    .select(\n",
    "        'SeriousDlqin2yrs',\n",
    "        'SeriousDlqin2yrs_idx',\n",
    "        'raw_pred',\n",
    "        'p_hat',\n",
    "        'y_hat')\\\n",
    "    .cache()\n",
    "        \n",
    "rf_predictions_ddf.show(NB_EXAMPLES_TO_SHOW)"
   ]
  },
  {
   "cell_type": "code",
   "execution_count": 47,
   "metadata": {
    "collapsed": false
   },
   "outputs": [
    {
     "name": "stdout",
     "output_type": "stream",
     "text": [
      "+----------------+--------------------+-----+\n",
      "|SeriousDlqin2yrs|SeriousDlqin2yrs_idx|y_hat|\n",
      "+----------------+--------------------+-----+\n",
      "|              no|                 0.0|  0.0|\n",
      "|              no|                 0.0|  0.0|\n",
      "|              no|                 0.0|  0.0|\n",
      "|              no|                 0.0|  0.0|\n",
      "|              no|                 0.0|  0.0|\n",
      "|              no|                 0.0|  0.0|\n",
      "|              no|                 0.0|  0.0|\n",
      "|              no|                 0.0|  0.0|\n",
      "|              no|                 0.0|  0.0|\n",
      "+----------------+--------------------+-----+\n",
      "only showing top 9 rows\n",
      "\n"
     ]
    }
   ],
   "source": [
    "gbt_predictions_ddf = \\\n",
    "    gbt_model.transform(\n",
    "        dataset=credit_scoring_test_ddf)\\\n",
    "    .select(\n",
    "        'SeriousDlqin2yrs',\n",
    "        'SeriousDlqin2yrs_idx',\n",
    "        'y_hat')\\\n",
    "    .cache()\n",
    "    \n",
    "gbt_predictions_ddf.show(NB_EXAMPLES_TO_SHOW)"
   ]
  },
  {
   "cell_type": "code",
   "execution_count": 68,
   "metadata": {
    "collapsed": false
   },
   "outputs": [
    {
     "name": "stderr",
     "output_type": "stream",
     "text": [
      "/srv/spark/python/pyspark/ml/classification.py:207: UserWarning: weights is deprecated. Use coefficients instead.\n",
      "  warnings.warn(\"weights is deprecated. Use coefficients instead.\")\n"
     ]
    },
    {
     "name": "stdout",
     "output_type": "stream",
     "text": [
      "+----------------+--------------------+--------------------+--------------------+-----+\n",
      "|SeriousDlqin2yrs|SeriousDlqin2yrs_idx|            raw_pred|               p_hat|y_hat|\n",
      "+----------------+--------------------+--------------------+--------------------+-----+\n",
      "|              no|                 0.0|[2.09742736469895...|[0.89065288070117...|  0.0|\n",
      "|              no|                 0.0|[1.91067014546231...|[0.87109441648891...|  0.0|\n",
      "|              no|                 0.0|[1.91985134007600...|[0.87212185525174...|  0.0|\n",
      "|              no|                 0.0|[1.93284849123966...|[0.87356436969513...|  0.0|\n",
      "|              no|                 0.0|[1.94136376260179...|[0.87450189061546...|  0.0|\n",
      "|              no|                 0.0|[1.95282431215647...|[0.87575427788417...|  0.0|\n",
      "|              no|                 0.0|[1.94512843654380...|[0.87491447512746...|  0.0|\n",
      "|              no|                 0.0|[1.94520526662425...|[0.87492288310291...|  0.0|\n",
      "|              no|                 0.0|[1.95701155154095...|[0.87620916967389...|  0.0|\n",
      "+----------------+--------------------+--------------------+--------------------+-----+\n",
      "only showing top 9 rows\n",
      "\n"
     ]
    }
   ],
   "source": [
    "lr_predictions_ddf = \\\n",
    "    lr_model.transform(\n",
    "        dataset=credit_scoring_test_ddf)\\\n",
    "    .select(\n",
    "        'SeriousDlqin2yrs',\n",
    "        'SeriousDlqin2yrs_idx',\n",
    "        'raw_pred',\n",
    "        'p_hat',\n",
    "        'y_hat')\\\n",
    "    .cache()\n",
    "        \n",
    "lr_predictions_ddf.show(NB_EXAMPLES_TO_SHOW)"
   ]
  },
  {
   "cell_type": "code",
   "execution_count": 51,
   "metadata": {
    "collapsed": false
   },
   "outputs": [
    {
     "data": {
      "text/plain": [
       "256"
      ]
     },
     "execution_count": 51,
     "metadata": {},
     "output_type": "execute_result"
    }
   ],
   "source": [
    "# install ChicagoBoothML_Helpy\n",
    "CHICAGOBOOTHML_HELPY_INSTALLATION_COMMAND = \\\n",
    "    'pip install --upgrade git+git://GitHub.com/ChicagoBoothML/Helpy --no-dependencies'\n",
    "\n",
    "os.system(CHICAGOBOOTHML_HELPY_INSTALLATION_COMMAND)"
   ]
  },
  {
   "cell_type": "code",
   "execution_count": 54,
   "metadata": {
    "collapsed": false
   },
   "outputs": [],
   "source": [
    "sc.addPyFile('EvaluationMetrics.py')"
   ]
  },
  {
   "cell_type": "code",
   "execution_count": 55,
   "metadata": {
    "collapsed": true
   },
   "outputs": [],
   "source": [
    "from EvaluationMetrics import bin_classif_eval"
   ]
  },
  {
   "cell_type": "markdown",
   "metadata": {},
   "source": [
    "# ROC Curves on test set"
   ]
  },
  {
   "cell_type": "code",
   "execution_count": 63,
   "metadata": {
    "collapsed": false
   },
   "outputs": [
    {
     "name": "stdout",
     "output_type": "stream",
     "text": [
      "[  1.00000000e-06   1.14975698e-06   1.32194112e-06   1.51991104e-06\n",
      "   1.74752833e-06   2.00923290e-06   2.31012956e-06   2.65608760e-06\n",
      "   3.05385526e-06   3.51119142e-06   4.03701685e-06   4.64158832e-06\n",
      "   5.33669858e-06   6.13590647e-06   7.05480131e-06   8.11130708e-06\n",
      "   9.32603196e-06   1.07226704e-05   1.23284652e-05   1.41747389e-05\n",
      "   1.62975051e-05   1.87381703e-05   2.15443421e-05   2.47707578e-05\n",
      "   2.84803518e-05   3.27454834e-05   3.76493482e-05   4.32876010e-05\n",
      "   4.97702216e-05   5.72236598e-05   6.57933025e-05   7.56463091e-05\n",
      "   8.69748721e-05   9.99999667e-05   1.14975660e-04   1.32194068e-04\n",
      "   1.51991053e-04   1.74752775e-04   2.00923223e-04   2.31012879e-04\n",
      "   2.65608671e-04   3.05385424e-04   3.51119024e-04   4.03701551e-04\n",
      "   4.64158677e-04   5.33669681e-04   6.13590442e-04   7.05479896e-04\n",
      "   8.11130438e-04   9.32602885e-04   1.07226668e-03   1.23284610e-03\n",
      "   1.41747342e-03   1.62974996e-03   1.87381640e-03   2.15443349e-03\n",
      "   2.47707495e-03   2.84803423e-03   3.27454724e-03   3.76493356e-03\n",
      "   4.32875866e-03   4.97702050e-03   5.72236408e-03   6.57932806e-03\n",
      "   7.56462839e-03   8.69748432e-03   9.99999333e-03   1.14975622e-02\n",
      "   1.32194024e-02   1.51991002e-02   1.74752716e-02   2.00923156e-02\n",
      "   2.31012802e-02   2.65608582e-02   3.05385323e-02   3.51118907e-02\n",
      "   4.03701416e-02   4.64158522e-02   5.33669503e-02   6.13590238e-02\n",
      "   7.05479661e-02   8.11130167e-02   9.32602574e-02   1.07226632e-01\n",
      "   1.23284569e-01   1.41747295e-01   1.62974942e-01   1.87381578e-01\n",
      "   2.15443277e-01   2.47707413e-01   2.84803328e-01   3.27454615e-01\n",
      "   3.76493231e-01   4.32875721e-01   4.97701884e-01   5.72236217e-01\n",
      "   6.57932587e-01   7.56462586e-01   8.69748142e-01   9.99999000e-01]\n"
     ]
    }
   ],
   "source": [
    "low_prob = 1e-6\n",
    "high_prob = 1 - low_prob\n",
    "log_low_prob = numpy.log(low_prob)\n",
    "log_high_prob = numpy.log(high_prob)\n",
    "log_prob_thresholds = numpy.linspace(start=log_low_prob, stop=log_high_prob, num=100)\n",
    "prob_thresholds = numpy.exp(log_prob_thresholds)"
   ]
  },
  {
   "cell_type": "code",
   "execution_count": 64,
   "metadata": {
    "collapsed": true
   },
   "outputs": [],
   "source": [
    "rf_oos_performance = \\\n",
    "    bin_classif_eval(\n",
    "        numpy.array(rf_predictions_ddf.select('p_hat').rdd.map(lambda row: row[0][1]).collect()),\n",
    "        numpy.array(rf_predictions_ddf.select('SeriousDlqin2yrs_idx').rdd.map(lambda row: row[0]).collect()),\n",
    "        pos_cat=1, thresholds=prob_thresholds)"
   ]
  },
  {
   "cell_type": "code",
   "execution_count": 70,
   "metadata": {
    "collapsed": false
   },
   "outputs": [],
   "source": [
    "lr_oos_performance = \\\n",
    "    bin_classif_eval(\n",
    "        numpy.array(lr_predictions_ddf.select('p_hat').rdd.map(lambda row: row[0][1]).collect()),\n",
    "        numpy.array(lr_predictions_ddf.select('SeriousDlqin2yrs_idx').rdd.map(lambda row: row[0]).collect()),\n",
    "        pos_cat=1, thresholds=prob_thresholds)"
   ]
  },
  {
   "cell_type": "code",
   "execution_count": 71,
   "metadata": {
    "collapsed": false
   },
   "outputs": [
    {
     "data": {
      "text/plain": [
       "<matplotlib.text.Text at 0x7fc0c3ef4390>"
      ]
     },
     "execution_count": 71,
     "metadata": {},
     "output_type": "execute_result"
    },
    {
     "data": {
      "image/png": "[encoded data removed]",
      "text/plain": [
       "<matplotlib.figure.Figure at 0x7fc0c3cb0f50>"
      ]
     },
     "metadata": {},
     "output_type": "display_data"
    }
   ],
   "source": [
    "%matplotlib inline\n",
    "pyplot.rcParams.update({\n",
    "    'figure.figsize': (8, 6),\n",
    "    'figure.titlesize': 'xx-large',\n",
    "    'legend.fontsize': 'x-large'})\n",
    "\n",
    "fig, ax = pyplot.subplots()\n",
    "\n",
    "ax.plot(\n",
    "    [0, 1], [0, 1],\n",
    "    linestyle='dotted')\n",
    "\n",
    "ax.plot(\n",
    "    1 - rf_oos_performance.specificity,\n",
    "    rf_oos_performance.recall,\n",
    "    label='SparkML Random Forest')\n",
    "\n",
    "ax.plot(\n",
    "    1 - lr_oos_performance.specificity,\n",
    "    lr_oos_performance.recall,\n",
    "    label='SparkML Logistic Regression')\n",
    "\n",
    "ax.legend(loc='right')\n",
    "fig.suptitle('ROC Curves (Test Data)')"
   ]
  }
 ],
 "metadata": {
  "kernelspec": {
   "display_name": "Python 2",
   "language": "python",
   "name": "python2"
  },
  "language_info": {
   "codemirror_mode": {
    "name": "ipython",
    "version": 2
   },
   "file_extension": ".py",
   "mimetype": "text/x-python",
   "name": "python",
   "nbconvert_exporter": "python",
   "pygments_lexer": "ipython2",
   "version": "2.7.6"
  }
 },
 "nbformat": 4,
 "nbformat_minor": 0
}
